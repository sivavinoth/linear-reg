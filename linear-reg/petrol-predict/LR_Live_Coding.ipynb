{
 "cells": [
  {
   "cell_type": "code",
   "execution_count": 1,
   "metadata": {
    "id": "pXpkVlS78Vbd",
    "ExecuteTime": {
     "end_time": "2023-07-25T14:55:00.903751600Z",
     "start_time": "2023-07-25T14:55:00.877696400Z"
    }
   },
   "outputs": [],
   "source": [
    "import pandas as pd\n",
    "import numpy as np\n",
    "import matplotlib.pyplot as plt"
   ]
  },
  {
   "cell_type": "code",
   "execution_count": 2,
   "metadata": {
    "id": "bSJjaxY19DkV",
    "ExecuteTime": {
     "end_time": "2023-07-25T14:55:01.824959500Z",
     "start_time": "2023-07-25T14:55:00.894941700Z"
    }
   },
   "outputs": [
    {
     "ename": "FileNotFoundError",
     "evalue": "[Errno 2] No such file or directory: 'student_scores.csv'",
     "output_type": "error",
     "traceback": [
      "\u001B[1;31m---------------------------------------------------------------------------\u001B[0m",
      "\u001B[1;31mFileNotFoundError\u001B[0m                         Traceback (most recent call last)",
      "Cell \u001B[1;32mIn[2], line 1\u001B[0m\n\u001B[1;32m----> 1\u001B[0m df \u001B[38;5;241m=\u001B[39m \u001B[43mpd\u001B[49m\u001B[38;5;241;43m.\u001B[39;49m\u001B[43mread_csv\u001B[49m\u001B[43m(\u001B[49m\u001B[38;5;124;43m'\u001B[39;49m\u001B[38;5;124;43mstudent_scores.csv\u001B[39;49m\u001B[38;5;124;43m'\u001B[39;49m\u001B[43m)\u001B[49m\n",
      "File \u001B[1;32m~\\anaconda3\\lib\\site-packages\\pandas\\io\\parsers\\readers.py:912\u001B[0m, in \u001B[0;36mread_csv\u001B[1;34m(filepath_or_buffer, sep, delimiter, header, names, index_col, usecols, dtype, engine, converters, true_values, false_values, skipinitialspace, skiprows, skipfooter, nrows, na_values, keep_default_na, na_filter, verbose, skip_blank_lines, parse_dates, infer_datetime_format, keep_date_col, date_parser, date_format, dayfirst, cache_dates, iterator, chunksize, compression, thousands, decimal, lineterminator, quotechar, quoting, doublequote, escapechar, comment, encoding, encoding_errors, dialect, on_bad_lines, delim_whitespace, low_memory, memory_map, float_precision, storage_options, dtype_backend)\u001B[0m\n\u001B[0;32m    899\u001B[0m kwds_defaults \u001B[38;5;241m=\u001B[39m _refine_defaults_read(\n\u001B[0;32m    900\u001B[0m     dialect,\n\u001B[0;32m    901\u001B[0m     delimiter,\n\u001B[1;32m   (...)\u001B[0m\n\u001B[0;32m    908\u001B[0m     dtype_backend\u001B[38;5;241m=\u001B[39mdtype_backend,\n\u001B[0;32m    909\u001B[0m )\n\u001B[0;32m    910\u001B[0m kwds\u001B[38;5;241m.\u001B[39mupdate(kwds_defaults)\n\u001B[1;32m--> 912\u001B[0m \u001B[38;5;28;01mreturn\u001B[39;00m \u001B[43m_read\u001B[49m\u001B[43m(\u001B[49m\u001B[43mfilepath_or_buffer\u001B[49m\u001B[43m,\u001B[49m\u001B[43m \u001B[49m\u001B[43mkwds\u001B[49m\u001B[43m)\u001B[49m\n",
      "File \u001B[1;32m~\\anaconda3\\lib\\site-packages\\pandas\\io\\parsers\\readers.py:577\u001B[0m, in \u001B[0;36m_read\u001B[1;34m(filepath_or_buffer, kwds)\u001B[0m\n\u001B[0;32m    574\u001B[0m _validate_names(kwds\u001B[38;5;241m.\u001B[39mget(\u001B[38;5;124m\"\u001B[39m\u001B[38;5;124mnames\u001B[39m\u001B[38;5;124m\"\u001B[39m, \u001B[38;5;28;01mNone\u001B[39;00m))\n\u001B[0;32m    576\u001B[0m \u001B[38;5;66;03m# Create the parser.\u001B[39;00m\n\u001B[1;32m--> 577\u001B[0m parser \u001B[38;5;241m=\u001B[39m TextFileReader(filepath_or_buffer, \u001B[38;5;241m*\u001B[39m\u001B[38;5;241m*\u001B[39mkwds)\n\u001B[0;32m    579\u001B[0m \u001B[38;5;28;01mif\u001B[39;00m chunksize \u001B[38;5;129;01mor\u001B[39;00m iterator:\n\u001B[0;32m    580\u001B[0m     \u001B[38;5;28;01mreturn\u001B[39;00m parser\n",
      "File \u001B[1;32m~\\anaconda3\\lib\\site-packages\\pandas\\io\\parsers\\readers.py:1407\u001B[0m, in \u001B[0;36mTextFileReader.__init__\u001B[1;34m(self, f, engine, **kwds)\u001B[0m\n\u001B[0;32m   1404\u001B[0m     \u001B[38;5;28mself\u001B[39m\u001B[38;5;241m.\u001B[39moptions[\u001B[38;5;124m\"\u001B[39m\u001B[38;5;124mhas_index_names\u001B[39m\u001B[38;5;124m\"\u001B[39m] \u001B[38;5;241m=\u001B[39m kwds[\u001B[38;5;124m\"\u001B[39m\u001B[38;5;124mhas_index_names\u001B[39m\u001B[38;5;124m\"\u001B[39m]\n\u001B[0;32m   1406\u001B[0m \u001B[38;5;28mself\u001B[39m\u001B[38;5;241m.\u001B[39mhandles: IOHandles \u001B[38;5;241m|\u001B[39m \u001B[38;5;28;01mNone\u001B[39;00m \u001B[38;5;241m=\u001B[39m \u001B[38;5;28;01mNone\u001B[39;00m\n\u001B[1;32m-> 1407\u001B[0m \u001B[38;5;28mself\u001B[39m\u001B[38;5;241m.\u001B[39m_engine \u001B[38;5;241m=\u001B[39m \u001B[38;5;28;43mself\u001B[39;49m\u001B[38;5;241;43m.\u001B[39;49m\u001B[43m_make_engine\u001B[49m\u001B[43m(\u001B[49m\u001B[43mf\u001B[49m\u001B[43m,\u001B[49m\u001B[43m \u001B[49m\u001B[38;5;28;43mself\u001B[39;49m\u001B[38;5;241;43m.\u001B[39;49m\u001B[43mengine\u001B[49m\u001B[43m)\u001B[49m\n",
      "File \u001B[1;32m~\\anaconda3\\lib\\site-packages\\pandas\\io\\parsers\\readers.py:1661\u001B[0m, in \u001B[0;36mTextFileReader._make_engine\u001B[1;34m(self, f, engine)\u001B[0m\n\u001B[0;32m   1659\u001B[0m     \u001B[38;5;28;01mif\u001B[39;00m \u001B[38;5;124m\"\u001B[39m\u001B[38;5;124mb\u001B[39m\u001B[38;5;124m\"\u001B[39m \u001B[38;5;129;01mnot\u001B[39;00m \u001B[38;5;129;01min\u001B[39;00m mode:\n\u001B[0;32m   1660\u001B[0m         mode \u001B[38;5;241m+\u001B[39m\u001B[38;5;241m=\u001B[39m \u001B[38;5;124m\"\u001B[39m\u001B[38;5;124mb\u001B[39m\u001B[38;5;124m\"\u001B[39m\n\u001B[1;32m-> 1661\u001B[0m \u001B[38;5;28mself\u001B[39m\u001B[38;5;241m.\u001B[39mhandles \u001B[38;5;241m=\u001B[39m \u001B[43mget_handle\u001B[49m\u001B[43m(\u001B[49m\n\u001B[0;32m   1662\u001B[0m \u001B[43m    \u001B[49m\u001B[43mf\u001B[49m\u001B[43m,\u001B[49m\n\u001B[0;32m   1663\u001B[0m \u001B[43m    \u001B[49m\u001B[43mmode\u001B[49m\u001B[43m,\u001B[49m\n\u001B[0;32m   1664\u001B[0m \u001B[43m    \u001B[49m\u001B[43mencoding\u001B[49m\u001B[38;5;241;43m=\u001B[39;49m\u001B[38;5;28;43mself\u001B[39;49m\u001B[38;5;241;43m.\u001B[39;49m\u001B[43moptions\u001B[49m\u001B[38;5;241;43m.\u001B[39;49m\u001B[43mget\u001B[49m\u001B[43m(\u001B[49m\u001B[38;5;124;43m\"\u001B[39;49m\u001B[38;5;124;43mencoding\u001B[39;49m\u001B[38;5;124;43m\"\u001B[39;49m\u001B[43m,\u001B[49m\u001B[43m \u001B[49m\u001B[38;5;28;43;01mNone\u001B[39;49;00m\u001B[43m)\u001B[49m\u001B[43m,\u001B[49m\n\u001B[0;32m   1665\u001B[0m \u001B[43m    \u001B[49m\u001B[43mcompression\u001B[49m\u001B[38;5;241;43m=\u001B[39;49m\u001B[38;5;28;43mself\u001B[39;49m\u001B[38;5;241;43m.\u001B[39;49m\u001B[43moptions\u001B[49m\u001B[38;5;241;43m.\u001B[39;49m\u001B[43mget\u001B[49m\u001B[43m(\u001B[49m\u001B[38;5;124;43m\"\u001B[39;49m\u001B[38;5;124;43mcompression\u001B[39;49m\u001B[38;5;124;43m\"\u001B[39;49m\u001B[43m,\u001B[49m\u001B[43m \u001B[49m\u001B[38;5;28;43;01mNone\u001B[39;49;00m\u001B[43m)\u001B[49m\u001B[43m,\u001B[49m\n\u001B[0;32m   1666\u001B[0m \u001B[43m    \u001B[49m\u001B[43mmemory_map\u001B[49m\u001B[38;5;241;43m=\u001B[39;49m\u001B[38;5;28;43mself\u001B[39;49m\u001B[38;5;241;43m.\u001B[39;49m\u001B[43moptions\u001B[49m\u001B[38;5;241;43m.\u001B[39;49m\u001B[43mget\u001B[49m\u001B[43m(\u001B[49m\u001B[38;5;124;43m\"\u001B[39;49m\u001B[38;5;124;43mmemory_map\u001B[39;49m\u001B[38;5;124;43m\"\u001B[39;49m\u001B[43m,\u001B[49m\u001B[43m \u001B[49m\u001B[38;5;28;43;01mFalse\u001B[39;49;00m\u001B[43m)\u001B[49m\u001B[43m,\u001B[49m\n\u001B[0;32m   1667\u001B[0m \u001B[43m    \u001B[49m\u001B[43mis_text\u001B[49m\u001B[38;5;241;43m=\u001B[39;49m\u001B[43mis_text\u001B[49m\u001B[43m,\u001B[49m\n\u001B[0;32m   1668\u001B[0m \u001B[43m    \u001B[49m\u001B[43merrors\u001B[49m\u001B[38;5;241;43m=\u001B[39;49m\u001B[38;5;28;43mself\u001B[39;49m\u001B[38;5;241;43m.\u001B[39;49m\u001B[43moptions\u001B[49m\u001B[38;5;241;43m.\u001B[39;49m\u001B[43mget\u001B[49m\u001B[43m(\u001B[49m\u001B[38;5;124;43m\"\u001B[39;49m\u001B[38;5;124;43mencoding_errors\u001B[39;49m\u001B[38;5;124;43m\"\u001B[39;49m\u001B[43m,\u001B[49m\u001B[43m \u001B[49m\u001B[38;5;124;43m\"\u001B[39;49m\u001B[38;5;124;43mstrict\u001B[39;49m\u001B[38;5;124;43m\"\u001B[39;49m\u001B[43m)\u001B[49m\u001B[43m,\u001B[49m\n\u001B[0;32m   1669\u001B[0m \u001B[43m    \u001B[49m\u001B[43mstorage_options\u001B[49m\u001B[38;5;241;43m=\u001B[39;49m\u001B[38;5;28;43mself\u001B[39;49m\u001B[38;5;241;43m.\u001B[39;49m\u001B[43moptions\u001B[49m\u001B[38;5;241;43m.\u001B[39;49m\u001B[43mget\u001B[49m\u001B[43m(\u001B[49m\u001B[38;5;124;43m\"\u001B[39;49m\u001B[38;5;124;43mstorage_options\u001B[39;49m\u001B[38;5;124;43m\"\u001B[39;49m\u001B[43m,\u001B[49m\u001B[43m \u001B[49m\u001B[38;5;28;43;01mNone\u001B[39;49;00m\u001B[43m)\u001B[49m\u001B[43m,\u001B[49m\n\u001B[0;32m   1670\u001B[0m \u001B[43m\u001B[49m\u001B[43m)\u001B[49m\n\u001B[0;32m   1671\u001B[0m \u001B[38;5;28;01massert\u001B[39;00m \u001B[38;5;28mself\u001B[39m\u001B[38;5;241m.\u001B[39mhandles \u001B[38;5;129;01mis\u001B[39;00m \u001B[38;5;129;01mnot\u001B[39;00m \u001B[38;5;28;01mNone\u001B[39;00m\n\u001B[0;32m   1672\u001B[0m f \u001B[38;5;241m=\u001B[39m \u001B[38;5;28mself\u001B[39m\u001B[38;5;241m.\u001B[39mhandles\u001B[38;5;241m.\u001B[39mhandle\n",
      "File \u001B[1;32m~\\anaconda3\\lib\\site-packages\\pandas\\io\\common.py:859\u001B[0m, in \u001B[0;36mget_handle\u001B[1;34m(path_or_buf, mode, encoding, compression, memory_map, is_text, errors, storage_options)\u001B[0m\n\u001B[0;32m    854\u001B[0m \u001B[38;5;28;01melif\u001B[39;00m \u001B[38;5;28misinstance\u001B[39m(handle, \u001B[38;5;28mstr\u001B[39m):\n\u001B[0;32m    855\u001B[0m     \u001B[38;5;66;03m# Check whether the filename is to be opened in binary mode.\u001B[39;00m\n\u001B[0;32m    856\u001B[0m     \u001B[38;5;66;03m# Binary mode does not support 'encoding' and 'newline'.\u001B[39;00m\n\u001B[0;32m    857\u001B[0m     \u001B[38;5;28;01mif\u001B[39;00m ioargs\u001B[38;5;241m.\u001B[39mencoding \u001B[38;5;129;01mand\u001B[39;00m \u001B[38;5;124m\"\u001B[39m\u001B[38;5;124mb\u001B[39m\u001B[38;5;124m\"\u001B[39m \u001B[38;5;129;01mnot\u001B[39;00m \u001B[38;5;129;01min\u001B[39;00m ioargs\u001B[38;5;241m.\u001B[39mmode:\n\u001B[0;32m    858\u001B[0m         \u001B[38;5;66;03m# Encoding\u001B[39;00m\n\u001B[1;32m--> 859\u001B[0m         handle \u001B[38;5;241m=\u001B[39m \u001B[38;5;28;43mopen\u001B[39;49m\u001B[43m(\u001B[49m\n\u001B[0;32m    860\u001B[0m \u001B[43m            \u001B[49m\u001B[43mhandle\u001B[49m\u001B[43m,\u001B[49m\n\u001B[0;32m    861\u001B[0m \u001B[43m            \u001B[49m\u001B[43mioargs\u001B[49m\u001B[38;5;241;43m.\u001B[39;49m\u001B[43mmode\u001B[49m\u001B[43m,\u001B[49m\n\u001B[0;32m    862\u001B[0m \u001B[43m            \u001B[49m\u001B[43mencoding\u001B[49m\u001B[38;5;241;43m=\u001B[39;49m\u001B[43mioargs\u001B[49m\u001B[38;5;241;43m.\u001B[39;49m\u001B[43mencoding\u001B[49m\u001B[43m,\u001B[49m\n\u001B[0;32m    863\u001B[0m \u001B[43m            \u001B[49m\u001B[43merrors\u001B[49m\u001B[38;5;241;43m=\u001B[39;49m\u001B[43merrors\u001B[49m\u001B[43m,\u001B[49m\n\u001B[0;32m    864\u001B[0m \u001B[43m            \u001B[49m\u001B[43mnewline\u001B[49m\u001B[38;5;241;43m=\u001B[39;49m\u001B[38;5;124;43m\"\u001B[39;49m\u001B[38;5;124;43m\"\u001B[39;49m\u001B[43m,\u001B[49m\n\u001B[0;32m    865\u001B[0m \u001B[43m        \u001B[49m\u001B[43m)\u001B[49m\n\u001B[0;32m    866\u001B[0m     \u001B[38;5;28;01melse\u001B[39;00m:\n\u001B[0;32m    867\u001B[0m         \u001B[38;5;66;03m# Binary mode\u001B[39;00m\n\u001B[0;32m    868\u001B[0m         handle \u001B[38;5;241m=\u001B[39m \u001B[38;5;28mopen\u001B[39m(handle, ioargs\u001B[38;5;241m.\u001B[39mmode)\n",
      "\u001B[1;31mFileNotFoundError\u001B[0m: [Errno 2] No such file or directory: 'student_scores.csv'"
     ]
    }
   ],
   "source": [
    "df = pd.read_csv('student_scores.csv')"
   ]
  },
  {
   "cell_type": "code",
   "execution_count": null,
   "metadata": {
    "colab": {
     "base_uri": "https://localhost:8080/",
     "height": 833
    },
    "id": "wE6uCR6M9HeU",
    "outputId": "2d5d2479-bd56-4549-95fa-15fe1dff0828"
   },
   "outputs": [],
   "source": [
    "df"
   ]
  },
  {
   "cell_type": "markdown",
   "metadata": {
    "id": "GBwwi5kR9mU4"
   },
   "source": [
    "# Clean"
   ]
  },
  {
   "cell_type": "code",
   "execution_count": null,
   "metadata": {
    "colab": {
     "base_uri": "https://localhost:8080/"
    },
    "id": "BAq1u9ZZ9nnc",
    "outputId": "913440d8-d973-4344-dafa-7e82d098c701"
   },
   "outputs": [],
   "source": [
    "df.shape"
   ]
  },
  {
   "cell_type": "markdown",
   "metadata": {
    "id": "KtSNwPMO9sly"
   },
   "source": [
    "### Hours"
   ]
  },
  {
   "cell_type": "code",
   "execution_count": null,
   "metadata": {
    "colab": {
     "base_uri": "https://localhost:8080/"
    },
    "id": "59BCff039r3j",
    "outputId": "51d047c2-440d-4ca6-b4a6-769b15d84d70"
   },
   "outputs": [],
   "source": [
    "df.Hours.dtype"
   ]
  },
  {
   "cell_type": "code",
   "execution_count": null,
   "metadata": {
    "colab": {
     "base_uri": "https://localhost:8080/"
    },
    "id": "Jh0rsiEn-GIr",
    "outputId": "b521d3aa-bb53-4278-dff4-755163b35fea"
   },
   "outputs": [],
   "source": [
    "df.Hours.isna().sum()"
   ]
  },
  {
   "cell_type": "code",
   "execution_count": null,
   "metadata": {
    "colab": {
     "base_uri": "https://localhost:8080/"
    },
    "id": "dT7rw8NP-PGE",
    "outputId": "0b099cbe-756c-4f08-f31c-739296fb92dd"
   },
   "outputs": [],
   "source": [
    "df.Hours.describe()"
   ]
  },
  {
   "cell_type": "markdown",
   "metadata": {
    "id": "DGgUi1c--gJ9"
   },
   "source": [
    "iqr = (q3 - q1)\n",
    "\n",
    "upper_treshold =  q3 +  (1.5iqr)\n",
    "lower_threshold = q1 - (1.5iqr)"
   ]
  },
  {
   "cell_type": "code",
   "execution_count": null,
   "metadata": {
    "colab": {
     "base_uri": "https://localhost:8080/"
    },
    "id": "FawWX2cw-fn4",
    "outputId": "8f0e2710-a87d-4205-def9-c7ec1e4d9dbe"
   },
   "outputs": [],
   "source": [
    "q3 = df.Hours.quantile(0.75)\n",
    "q1 = df.Hours.quantile(0.25)\n",
    "iqr = q3 - q1\n",
    "\n",
    "upper_threshold = q3 + (1.5 * iqr)\n",
    "lower_threshold = q1 - (1.5 * iqr)\n",
    "\n",
    "upper_threshold, lower_threshold"
   ]
  },
  {
   "cell_type": "markdown",
   "metadata": {
    "id": "7-tTQDFq_vxo"
   },
   "source": [
    "### Scores\n"
   ]
  },
  {
   "cell_type": "code",
   "execution_count": null,
   "metadata": {
    "colab": {
     "base_uri": "https://localhost:8080/"
    },
    "id": "8Wl7t2r6_w8r",
    "outputId": "2f9ecf1b-41bd-45be-d9c3-f5d0ed002876"
   },
   "outputs": [],
   "source": [
    "df.Scores.dtype"
   ]
  },
  {
   "cell_type": "code",
   "execution_count": null,
   "metadata": {
    "colab": {
     "base_uri": "https://localhost:8080/"
    },
    "id": "1JC10Ddl_3zz",
    "outputId": "c7bf99d4-a013-4bac-f588-46e4f093f214"
   },
   "outputs": [],
   "source": [
    "df.Scores.isna().sum()"
   ]
  },
  {
   "cell_type": "code",
   "execution_count": null,
   "metadata": {
    "colab": {
     "base_uri": "https://localhost:8080/"
    },
    "id": "vcHR7D7E_7QT",
    "outputId": "524b0637-5635-4495-c548-e673f8613797"
   },
   "outputs": [],
   "source": [
    "df.Scores.describe()"
   ]
  },
  {
   "cell_type": "code",
   "execution_count": null,
   "metadata": {
    "id": "3zUq53hlAM2P"
   },
   "outputs": [],
   "source": [
    "df = df.drop_duplicates()"
   ]
  },
  {
   "cell_type": "code",
   "execution_count": null,
   "metadata": {
    "colab": {
     "base_uri": "https://localhost:8080/"
    },
    "id": "Wt8de9fCAO48",
    "outputId": "580e4f4c-a813-4f83-dba3-9a478186b056"
   },
   "outputs": [],
   "source": [
    "df.shape"
   ]
  },
  {
   "cell_type": "markdown",
   "metadata": {
    "id": "WfrkttX5AdhW"
   },
   "source": [
    "# EDA"
   ]
  },
  {
   "cell_type": "code",
   "execution_count": null,
   "metadata": {
    "colab": {
     "base_uri": "https://localhost:8080/",
     "height": 467
    },
    "id": "6GW8ekK4AeSl",
    "outputId": "d56894d1-50bd-4ca6-bb1b-d96b67cebed9"
   },
   "outputs": [],
   "source": [
    "df.plot.scatter(x = 'Hours', y='Scores')"
   ]
  },
  {
   "cell_type": "code",
   "execution_count": null,
   "metadata": {
    "colab": {
     "base_uri": "https://localhost:8080/",
     "height": 112
    },
    "id": "r8KdTVbbBFZH",
    "outputId": "f448fe4e-e770-4e47-f3fa-094d107b59de"
   },
   "outputs": [],
   "source": [
    "df.corr()"
   ]
  },
  {
   "cell_type": "markdown",
   "metadata": {
    "id": "hKwuL4vvAwxb"
   },
   "source": [
    "\n",
    "\n",
    "1.   Is there any relationship between feature and target -> Yes\n",
    "2.   Is there a linear relationship between feature and target -> Yes\n",
    "3.   Linear Regression ? -> Yes\n",
    "4.   Transformation -> No\n",
    "\n"
   ]
  },
  {
   "cell_type": "markdown",
   "metadata": {
    "id": "tJ2AKbK8BUt3"
   },
   "source": [
    "# Encode"
   ]
  },
  {
   "cell_type": "markdown",
   "metadata": {
    "id": "PBA1dcQvBX5Q"
   },
   "source": [
    "There are no categorical variable in my data -> no encoding is required"
   ]
  },
  {
   "cell_type": "markdown",
   "metadata": {
    "id": "26lXahC-Bcp8"
   },
   "source": [
    "# Split"
   ]
  },
  {
   "cell_type": "code",
   "execution_count": null,
   "metadata": {
    "id": "KjSRqzhSBXJI"
   },
   "outputs": [],
   "source": [
    "from sklearn.model_selection import train_test_split\n",
    "\n",
    "X = df.loc[:,['Hours']] # fts\n",
    "y = df.Scores # target\n",
    "\n",
    "X_train, X_test, y_train, y_test = train_test_split(X, y, test_size=0.3, random_state=42)"
   ]
  },
  {
   "cell_type": "markdown",
   "metadata": {
    "id": "ZfX3TVDDEqOA"
   },
   "source": [
    "# Scale"
   ]
  },
  {
   "cell_type": "markdown",
   "metadata": {
    "id": "NVBkXh2VEsIk"
   },
   "source": [
    "Not mandatory for Linear Regression\n"
   ]
  },
  {
   "cell_type": "markdown",
   "metadata": {
    "id": "geKanAsVxcPw"
   },
   "source": [
    "# Linear Regression"
   ]
  },
  {
   "cell_type": "code",
   "execution_count": null,
   "metadata": {
    "colab": {
     "base_uri": "https://localhost:8080/"
    },
    "id": "GV0pf_WmxeqN",
    "outputId": "db47d0cc-5a19-4e42-9594-cb7ee401ffa2"
   },
   "outputs": [],
   "source": [
    "from sklearn.linear_model import LinearRegression # class\n",
    "\n",
    "lr_model = LinearRegression() # object\n",
    "\n",
    "lr_model.fit(X_train, y_train) # magic is happening!\n",
    "\n",
    "lr_model.coef_, lr_model.intercept_ # predicted scores = 9.49 * hours + 4.08 y = m(coef)*x + c(intercept)"
   ]
  },
  {
   "cell_type": "code",
   "execution_count": null,
   "metadata": {
    "colab": {
     "base_uri": "https://localhost:8080/"
    },
    "id": "5Mt6ya8yzEPc",
    "outputId": "a4b22615-c3b9-438d-d54f-34c6ca4b4ddb"
   },
   "outputs": [],
   "source": [
    "lr_model.predict([[6]])"
   ]
  },
  {
   "cell_type": "code",
   "execution_count": null,
   "metadata": {
    "colab": {
     "base_uri": "https://localhost:8080/",
     "height": 300
    },
    "id": "84bYhfg5zZvc",
    "outputId": "439d4d62-e17b-402f-922e-8e4f342ac5e7"
   },
   "outputs": [],
   "source": [
    "pd.DataFrame(zip(lr_model.predict(X_test), y_test), columns = ['Predicted Score', 'True Score'])"
   ]
  },
  {
   "cell_type": "markdown",
   "metadata": {
    "id": "_b1xIOZ31fwh"
   },
   "source": [
    "## R2 Score"
   ]
  },
  {
   "cell_type": "code",
   "execution_count": null,
   "metadata": {
    "colab": {
     "base_uri": "https://localhost:8080/"
    },
    "id": "gWJxOavR1g_t",
    "outputId": "dee0ef4e-cd94-4993-a1d3-5b106edc5960"
   },
   "outputs": [],
   "source": [
    "from sklearn.metrics import r2_score\n",
    "\n",
    "r2_score(y_test, lr_model.predict(X_test)) #excellent r2 score"
   ]
  },
  {
   "cell_type": "markdown",
   "metadata": {
    "id": "GPFkFbpN2ysC"
   },
   "source": [
    "### Perils of Extrapolation"
   ]
  },
  {
   "cell_type": "code",
   "execution_count": null,
   "metadata": {
    "colab": {
     "base_uri": "https://localhost:8080/"
    },
    "id": "O7vRV3rx21js",
    "outputId": "938fd69f-cfbf-4427-8646-bfbdb44a21ab"
   },
   "outputs": [],
   "source": [
    "lr_model.predict([[12]])"
   ]
  },
  {
   "cell_type": "markdown",
   "metadata": {
    "id": "rrroNWey6gYA"
   },
   "source": [
    "# Petrol Consumption Case Study\n"
   ]
  },
  {
   "cell_type": "code",
   "execution_count": null,
   "metadata": {
    "id": "6ueH7DQe6jVy"
   },
   "outputs": [],
   "source": [
    "df = pd.read_csv('petrol_consumption.csv')"
   ]
  },
  {
   "cell_type": "code",
   "execution_count": null,
   "metadata": {
    "colab": {
     "base_uri": "https://localhost:8080/",
     "height": 1000
    },
    "id": "gFBAxtnT6v_Z",
    "outputId": "655a60c7-6fdd-42a2-cbc3-6efc72e2d3ab"
   },
   "outputs": [],
   "source": [
    "df"
   ]
  },
  {
   "cell_type": "code",
   "execution_count": null,
   "metadata": {
    "colab": {
     "base_uri": "https://localhost:8080/"
    },
    "id": "N_U_v1b47fHz",
    "outputId": "574a8879-a972-4174-d16d-f85ddb15ec99"
   },
   "outputs": [],
   "source": [
    "df.shape"
   ]
  },
  {
   "cell_type": "markdown",
   "metadata": {
    "id": "QzkuczDz7moF"
   },
   "source": [
    "## Clean"
   ]
  },
  {
   "cell_type": "markdown",
   "metadata": {
    "id": "uPXWHMzU7oVe"
   },
   "source": [
    "### Petrol_tax"
   ]
  },
  {
   "cell_type": "code",
   "execution_count": null,
   "metadata": {
    "colab": {
     "base_uri": "https://localhost:8080/"
    },
    "id": "vMGvnwCt7rCR",
    "outputId": "77ff5f49-3ff4-46c5-fe75-6507149ab1c1"
   },
   "outputs": [],
   "source": [
    "df.Petrol_tax.dtype"
   ]
  },
  {
   "cell_type": "code",
   "execution_count": null,
   "metadata": {
    "colab": {
     "base_uri": "https://localhost:8080/"
    },
    "id": "PXPk5Lw5704N",
    "outputId": "cf71a86b-e9cf-4de7-ec04-03414335ae2d"
   },
   "outputs": [],
   "source": [
    "df.Petrol_tax.isna().sum()"
   ]
  },
  {
   "cell_type": "code",
   "execution_count": null,
   "metadata": {
    "colab": {
     "base_uri": "https://localhost:8080/"
    },
    "id": "5NF1ER0Z78y1",
    "outputId": "a77a87cb-39ce-463b-aaeb-91dffd29fb0b"
   },
   "outputs": [],
   "source": [
    "q3 = df.Petrol_tax.quantile(0.75)\n",
    "q1 = df.Petrol_tax.quantile(0.25)\n",
    "iqr = q3 - q1\n",
    "\n",
    "upper_threshold = q3 + (1.5 * iqr)\n",
    "lower_threshold = q1 - (1.5 * iqr)\n",
    "\n",
    "upper_threshold, lower_threshold"
   ]
  },
  {
   "cell_type": "code",
   "execution_count": null,
   "metadata": {
    "colab": {
     "base_uri": "https://localhost:8080/"
    },
    "id": "R73E9gH28Cry",
    "outputId": "7b5a6dc8-44b1-4cd6-d363-47fbd2655af2"
   },
   "outputs": [],
   "source": [
    "df.Petrol_tax.describe()"
   ]
  },
  {
   "cell_type": "code",
   "execution_count": null,
   "metadata": {
    "id": "keIWoAZU8RuK"
   },
   "outputs": [],
   "source": [
    "df.Petrol_tax = df.Petrol_tax.clip(lower_threshold, upper_threshold)"
   ]
  },
  {
   "cell_type": "code",
   "execution_count": null,
   "metadata": {
    "colab": {
     "base_uri": "https://localhost:8080/"
    },
    "id": "KbpZiJRN8sW7",
    "outputId": "fda2308d-d220-473e-a2d6-9515b50fc119"
   },
   "outputs": [],
   "source": [
    "df.columns"
   ]
  },
  {
   "cell_type": "markdown",
   "metadata": {
    "id": "KLBe9P7R8vEl"
   },
   "source": [
    "### Average_income"
   ]
  },
  {
   "cell_type": "code",
   "execution_count": null,
   "metadata": {
    "colab": {
     "base_uri": "https://localhost:8080/"
    },
    "id": "_CVLeD248v3U",
    "outputId": "b87b922d-0e65-417d-8622-1b2c386dd6d0"
   },
   "outputs": [],
   "source": [
    "df.Average_income.dtype"
   ]
  },
  {
   "cell_type": "code",
   "execution_count": null,
   "metadata": {
    "colab": {
     "base_uri": "https://localhost:8080/"
    },
    "id": "zLdnV_y38x-S",
    "outputId": "2e8d5acc-00b2-40eb-e275-49544de3b536"
   },
   "outputs": [],
   "source": [
    "df.Average_income.isna().sum()"
   ]
  },
  {
   "cell_type": "code",
   "execution_count": null,
   "metadata": {
    "colab": {
     "base_uri": "https://localhost:8080/"
    },
    "id": "1YlRWE1w81jB",
    "outputId": "599e9c4d-e165-4034-f946-bdb18e91c5ee"
   },
   "outputs": [],
   "source": [
    "q3 = df.Average_income.quantile(0.75)\n",
    "q1 = df.Average_income.quantile(0.25)\n",
    "iqr = q3 - q1\n",
    "\n",
    "upper_threshold = q3 + (1.5 * iqr)\n",
    "lower_threshold = q1 - (1.5 * iqr)\n",
    "\n",
    "upper_threshold, lower_threshold, df.Average_income.describe()"
   ]
  },
  {
   "cell_type": "markdown",
   "metadata": {
    "id": "_v7WqnQ19Ges"
   },
   "source": [
    "### Paved_Highways"
   ]
  },
  {
   "cell_type": "code",
   "execution_count": null,
   "metadata": {
    "colab": {
     "base_uri": "https://localhost:8080/"
    },
    "id": "2aY8F19h9HXa",
    "outputId": "f7bcab40-77ee-4946-b159-57a5b00d5c43"
   },
   "outputs": [],
   "source": [
    "df.Paved_Highways.dtype"
   ]
  },
  {
   "cell_type": "code",
   "execution_count": null,
   "metadata": {
    "colab": {
     "base_uri": "https://localhost:8080/"
    },
    "id": "M5Y_7_K_9J9M",
    "outputId": "0871acf5-517f-4d91-c0f5-6d4fd213fbe8"
   },
   "outputs": [],
   "source": [
    "df.Paved_Highways.isna().sum()"
   ]
  },
  {
   "cell_type": "code",
   "execution_count": null,
   "metadata": {
    "colab": {
     "base_uri": "https://localhost:8080/"
    },
    "id": "H4s4cXCv9OE_",
    "outputId": "a1cbbfa4-0cc2-4212-a7a5-c54a530516a8"
   },
   "outputs": [],
   "source": [
    "q3 = df.Paved_Highways.quantile(0.75)\n",
    "q1 = df.Paved_Highways.quantile(0.25)\n",
    "iqr = q3 - q1\n",
    "\n",
    "upper_threshold = q3 + (1.5 * iqr)\n",
    "lower_threshold = q1 - (1.5 * iqr)\n",
    "\n",
    "upper_threshold, lower_threshold, df.Paved_Highways.describe()"
   ]
  },
  {
   "cell_type": "code",
   "execution_count": null,
   "metadata": {
    "id": "kvPQVp_e9gxr"
   },
   "outputs": [],
   "source": [
    "df.Paved_Highways = df.Paved_Highways.clip(lower_threshold, upper_threshold)"
   ]
  },
  {
   "cell_type": "markdown",
   "metadata": {
    "id": "Xkl2BNVr9lJG"
   },
   "source": [
    "### Population_Driver_licence(%)"
   ]
  },
  {
   "cell_type": "code",
   "execution_count": null,
   "metadata": {
    "colab": {
     "base_uri": "https://localhost:8080/"
    },
    "id": "ovfROSjS9nBl",
    "outputId": "44b10d8b-da9e-4c89-a1b3-1be461723b2e"
   },
   "outputs": [],
   "source": [
    "df['Population_Driver_licence(%)'].dtype"
   ]
  },
  {
   "cell_type": "code",
   "execution_count": null,
   "metadata": {
    "colab": {
     "base_uri": "https://localhost:8080/"
    },
    "id": "ERMgrLeo97B2",
    "outputId": "2e57d5ff-78d3-4387-c23c-6064bca1124d"
   },
   "outputs": [],
   "source": [
    "df['Population_Driver_licence(%)'].isna().sum()"
   ]
  },
  {
   "cell_type": "code",
   "execution_count": null,
   "metadata": {
    "colab": {
     "base_uri": "https://localhost:8080/"
    },
    "id": "9dtnA0bN985A",
    "outputId": "6026706f-73a1-4eca-936c-fbc0e9351c11"
   },
   "outputs": [],
   "source": [
    "q3 = df['Population_Driver_licence(%)'].quantile(0.75)\n",
    "q1 = df['Population_Driver_licence(%)'].quantile(0.25)\n",
    "iqr = q3 - q1\n",
    "\n",
    "upper_threshold = q3 + (1.5 * iqr)\n",
    "lower_threshold = q1 - (1.5 * iqr)\n",
    "\n",
    "upper_threshold, lower_threshold, df['Population_Driver_licence(%)'].describe()"
   ]
  },
  {
   "cell_type": "code",
   "execution_count": null,
   "metadata": {
    "id": "_CmiOeP9-GoU"
   },
   "outputs": [],
   "source": [
    "df['Population_Driver_licence(%)'] = df['Population_Driver_licence(%)'].clip(lower_threshold, upper_threshold)"
   ]
  },
  {
   "cell_type": "markdown",
   "metadata": {
    "id": "eLn1P42R-OTq"
   },
   "source": [
    "### Petrol Consumption"
   ]
  },
  {
   "cell_type": "code",
   "execution_count": null,
   "metadata": {
    "colab": {
     "base_uri": "https://localhost:8080/"
    },
    "id": "zO8d5Pcx-Q6y",
    "outputId": "2c0f9914-1380-4bc2-e080-3150126fc2cd"
   },
   "outputs": [],
   "source": [
    "df.Petrol_Consumption.dtype"
   ]
  },
  {
   "cell_type": "code",
   "execution_count": null,
   "metadata": {
    "colab": {
     "base_uri": "https://localhost:8080/"
    },
    "id": "Iauot7g4-WD8",
    "outputId": "a5984f54-4c90-495b-aa48-be815b9fd73f"
   },
   "outputs": [],
   "source": [
    "df.Petrol_Consumption.isna().sum()"
   ]
  },
  {
   "cell_type": "code",
   "execution_count": null,
   "metadata": {
    "id": "cyLR9m6a-xJy"
   },
   "outputs": [],
   "source": [
    "df = df.drop_duplicates()"
   ]
  },
  {
   "cell_type": "code",
   "execution_count": null,
   "metadata": {
    "colab": {
     "base_uri": "https://localhost:8080/"
    },
    "id": "gXOJu14u-zf_",
    "outputId": "b8e2678e-7de6-49a2-9e64-ec5c37f3f41c"
   },
   "outputs": [],
   "source": [
    "df.shape"
   ]
  },
  {
   "cell_type": "markdown",
   "metadata": {
    "id": "K6RsGYBZ0IVZ"
   },
   "source": [
    "# EDA"
   ]
  },
  {
   "cell_type": "code",
   "execution_count": null,
   "metadata": {
    "colab": {
     "base_uri": "https://localhost:8080/"
    },
    "id": "y9QKXFr60KFn",
    "outputId": "c8cb525f-295e-4463-8493-4d9768658a1d"
   },
   "outputs": [],
   "source": [
    "df.columns"
   ]
  },
  {
   "cell_type": "markdown",
   "metadata": {
    "id": "gPZbqVxY0OhZ"
   },
   "source": [
    "## Petrol_tax\n"
   ]
  },
  {
   "cell_type": "code",
   "execution_count": null,
   "metadata": {
    "colab": {
     "base_uri": "https://localhost:8080/"
    },
    "id": "KfoWRvQS0SLT",
    "outputId": "ba0f6595-bbaa-4505-f64b-6ea7d83aa6b7"
   },
   "outputs": [],
   "source": [
    "df.Petrol_tax.value_counts()"
   ]
  },
  {
   "cell_type": "code",
   "execution_count": null,
   "metadata": {
    "colab": {
     "base_uri": "https://localhost:8080/",
     "height": 502
    },
    "id": "kcws-OND03yd",
    "outputId": "10749fe9-1276-4a72-dfb7-c3346e9ee8f6"
   },
   "outputs": [],
   "source": [
    "df.groupby('Petrol_tax')['Petrol_Consumption'].mean().plot(kind = 'bar')"
   ]
  },
  {
   "cell_type": "code",
   "execution_count": null,
   "metadata": {
    "colab": {
     "base_uri": "https://localhost:8080/",
     "height": 112
    },
    "id": "debG0NDQ1w-b",
    "outputId": "c11502f4-fb71-4b65-8a78-1525890703f4"
   },
   "outputs": [],
   "source": [
    "df[['Petrol_tax','Petrol_Consumption']].corr()"
   ]
  },
  {
   "cell_type": "markdown",
   "metadata": {
    "id": "riu9AXHl2esW"
   },
   "source": [
    "## Average_income"
   ]
  },
  {
   "cell_type": "code",
   "execution_count": null,
   "metadata": {
    "colab": {
     "base_uri": "https://localhost:8080/"
    },
    "id": "iNh3PDfH2g_p",
    "outputId": "c8664c8a-b6ba-4cdd-ca08-9ff4e53631d2"
   },
   "outputs": [],
   "source": [
    "df.Average_income.value_counts()"
   ]
  },
  {
   "cell_type": "code",
   "execution_count": null,
   "metadata": {
    "colab": {
     "base_uri": "https://localhost:8080/",
     "height": 468
    },
    "id": "Kya6dwz32mhT",
    "outputId": "f8435a4f-12d5-4547-cdef-a26d63f439f2"
   },
   "outputs": [],
   "source": [
    "df[['Average_income','Petrol_Consumption']].plot.scatter(x = 'Average_income', y = 'Petrol_Consumption')"
   ]
  },
  {
   "cell_type": "code",
   "execution_count": null,
   "metadata": {
    "colab": {
     "base_uri": "https://localhost:8080/",
     "height": 112
    },
    "id": "LceUBKme29Nn",
    "outputId": "f913b919-ab82-42bf-d42f-b73f3fbdfaf5"
   },
   "outputs": [],
   "source": [
    "df[['Average_income','Petrol_Consumption']].corr()"
   ]
  },
  {
   "cell_type": "markdown",
   "metadata": {
    "id": "ZKiLUMMT3Jc2"
   },
   "source": [
    "### Paved_Highways"
   ]
  },
  {
   "cell_type": "code",
   "execution_count": null,
   "metadata": {
    "colab": {
     "base_uri": "https://localhost:8080/"
    },
    "id": "q1krDn1w3MDM",
    "outputId": "9cc205db-51cd-40f9-e621-b4c6ec9447bf"
   },
   "outputs": [],
   "source": [
    "df.Paved_Highways.value_counts()"
   ]
  },
  {
   "cell_type": "code",
   "execution_count": null,
   "metadata": {
    "colab": {
     "base_uri": "https://localhost:8080/",
     "height": 468
    },
    "id": "SBMj7yxz3RAD",
    "outputId": "ef0cdcb2-a498-4c15-9d32-9da5ec564c22"
   },
   "outputs": [],
   "source": [
    "df[['Paved_Highways','Petrol_Consumption']].plot.scatter(x = 'Paved_Highways', y = 'Petrol_Consumption')"
   ]
  },
  {
   "cell_type": "code",
   "execution_count": null,
   "metadata": {
    "colab": {
     "base_uri": "https://localhost:8080/",
     "height": 112
    },
    "id": "1BK8qHgn4CO0",
    "outputId": "743e723d-bfb9-4df7-801d-0624bdc1ec7b"
   },
   "outputs": [],
   "source": [
    "df[['Paved_Highways','Petrol_Consumption']].corr()"
   ]
  },
  {
   "cell_type": "code",
   "execution_count": null,
   "metadata": {
    "colab": {
     "base_uri": "https://localhost:8080/",
     "height": 581
    },
    "id": "K8wwg0wT4Ndv",
    "outputId": "1e44e445-5d6e-4af8-ab37-5f2b84712811"
   },
   "outputs": [],
   "source": [
    "import numpy as np\n",
    "df['transformed_highways'] = np.log(df.Paved_Highways)\n",
    "df[['transformed_highways','Petrol_Consumption']].plot.scatter(x = 'transformed_highways', y = 'Petrol_Consumption')\n",
    "df[['transformed_highways','Petrol_Consumption']].corr()"
   ]
  },
  {
   "cell_type": "code",
   "execution_count": null,
   "metadata": {
    "id": "iO4iuU-d5VGH"
   },
   "outputs": [],
   "source": [
    "del df['transformed_highways']\n"
   ]
  },
  {
   "cell_type": "code",
   "execution_count": null,
   "metadata": {
    "id": "vOeIbHUB5cur"
   },
   "outputs": [],
   "source": [
    "del df['Paved_Highways']"
   ]
  },
  {
   "cell_type": "markdown",
   "metadata": {
    "id": "FVg7VO605m2W"
   },
   "source": [
    "### Population_Driver_licence(%)"
   ]
  },
  {
   "cell_type": "code",
   "execution_count": null,
   "metadata": {
    "colab": {
     "base_uri": "https://localhost:8080/"
    },
    "id": "bWYuJ0Nl5rR2",
    "outputId": "8f9ef13d-090f-4f64-d427-3f5c1b32f139"
   },
   "outputs": [],
   "source": [
    "df['Population_Driver_licence(%)'].value_counts()"
   ]
  },
  {
   "cell_type": "code",
   "execution_count": null,
   "metadata": {
    "colab": {
     "base_uri": "https://localhost:8080/",
     "height": 468
    },
    "id": "icUIPvNx5vKR",
    "outputId": "05e6af50-871e-4595-a0d8-6909f5c15d69"
   },
   "outputs": [],
   "source": [
    "df[['Population_Driver_licence(%)','Petrol_Consumption']].plot.scatter(x='Population_Driver_licence(%)', y='Petrol_Consumption')"
   ]
  },
  {
   "cell_type": "code",
   "execution_count": null,
   "metadata": {
    "colab": {
     "base_uri": "https://localhost:8080/",
     "height": 112
    },
    "id": "DpCRM47d5-eC",
    "outputId": "1d50695b-fb1f-439e-f718-f0ed31b8c315"
   },
   "outputs": [],
   "source": [
    "df[['Population_Driver_licence(%)','Petrol_Consumption']].corr()"
   ]
  },
  {
   "cell_type": "code",
   "execution_count": null,
   "metadata": {
    "colab": {
     "base_uri": "https://localhost:8080/"
    },
    "id": "zQShyQLW6O67",
    "outputId": "0ff0e71d-4592-403b-b5a9-0ef391bbc0aa"
   },
   "outputs": [],
   "source": [
    "df.columns"
   ]
  },
  {
   "cell_type": "markdown",
   "metadata": {
    "id": "lbNeXdLj6Wsc"
   },
   "source": [
    "## Encode"
   ]
  },
  {
   "cell_type": "markdown",
   "metadata": {
    "id": "g9P9RiMQ6fzb"
   },
   "source": [
    "No encoding the data here as there are no categorical columns"
   ]
  },
  {
   "cell_type": "markdown",
   "metadata": {
    "id": "FDZOVMMB6jLB"
   },
   "source": [
    "## Split"
   ]
  },
  {
   "cell_type": "code",
   "execution_count": null,
   "metadata": {
    "id": "nVNSAM0Z6krs"
   },
   "outputs": [],
   "source": [
    "X = df[['Petrol_tax', 'Average_income', 'Population_Driver_licence(%)']]\n",
    "y = df.Petrol_Consumption"
   ]
  },
  {
   "cell_type": "code",
   "execution_count": null,
   "metadata": {
    "id": "57p8fcql6vNt"
   },
   "outputs": [],
   "source": [
    "X_train, X_test, y_train, y_test = train_test_split(X,y,test_size=0.2,random_state=42)"
   ]
  },
  {
   "cell_type": "markdown",
   "metadata": {
    "id": "2Qvsa8wM7MX0"
   },
   "source": [
    "## Scale"
   ]
  },
  {
   "cell_type": "code",
   "execution_count": null,
   "metadata": {
    "id": "Ax6W7drc7OWO"
   },
   "outputs": [],
   "source": [
    "from sklearn.preprocessing import StandardScaler\n",
    "scaler = StandardScaler()\n",
    "scaler.fit(X_train)\n",
    "\n",
    "X_train = scaler.transform(X_train)\n",
    "X_test = scaler.transform(X_test)"
   ]
  },
  {
   "cell_type": "markdown",
   "metadata": {
    "id": "oHXwFuIy8QSN"
   },
   "source": [
    "## Modelling"
   ]
  },
  {
   "cell_type": "code",
   "execution_count": null,
   "metadata": {
    "colab": {
     "base_uri": "https://localhost:8080/"
    },
    "id": "qe2iL5Th8RPx",
    "outputId": "148efb20-6fc9-4440-969c-37a306d4377d"
   },
   "outputs": [],
   "source": [
    "from sklearn.linear_model import LinearRegression\n",
    "\n",
    "lr_model = LinearRegression()\n",
    "\n",
    "lr_model.fit(X_train, y_train)\n",
    "\n",
    "lr_model.coef_, lr_model.intercept_ # y = -26 * Petrol_tax_Scaled + -35 * Average_Income_scaled + 81 * Pop_Driver_license_scaled + 578"
   ]
  },
  {
   "cell_type": "code",
   "execution_count": null,
   "metadata": {
    "colab": {
     "base_uri": "https://localhost:8080/"
    },
    "id": "Pk5Toez-8ynI",
    "outputId": "6b6b50c9-28c4-4b04-bb60-c8fbc56e2b97"
   },
   "outputs": [],
   "source": [
    "lr_model.predict(scaler.transform([[6.5, 3456, 0.725]]))"
   ]
  },
  {
   "cell_type": "code",
   "execution_count": null,
   "metadata": {
    "colab": {
     "base_uri": "https://localhost:8080/"
    },
    "id": "LUG5_kTG9Q3M",
    "outputId": "8cdc60bf-e6da-413b-944a-806c7a236d9d"
   },
   "outputs": [],
   "source": [
    "lr_model.predict(X_test)"
   ]
  },
  {
   "cell_type": "code",
   "execution_count": null,
   "metadata": {
    "colab": {
     "base_uri": "https://localhost:8080/"
    },
    "id": "yg2yCJjZ9cJZ",
    "outputId": "95283ac2-810d-464f-822e-ea3161025615"
   },
   "outputs": [],
   "source": [
    "r2_score(y_test, lr_model.predict(X_test))"
   ]
  }
 ],
 "metadata": {
  "colab": {
   "provenance": []
  },
  "kernelspec": {
   "name": "python3",
   "language": "python",
   "display_name": "Python 3 (ipykernel)"
  },
  "language_info": {
   "codemirror_mode": {
    "name": "ipython",
    "version": 3
   },
   "file_extension": ".py",
   "mimetype": "text/x-python",
   "name": "python",
   "nbconvert_exporter": "python",
   "pygments_lexer": "ipython3",
   "version": "3.10.9"
  }
 },
 "nbformat": 4,
 "nbformat_minor": 0
}
